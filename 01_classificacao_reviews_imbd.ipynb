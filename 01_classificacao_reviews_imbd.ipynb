{
  "nbformat": 4,
  "nbformat_minor": 0,
  "metadata": {
    "colab": {
      "name": "01_classificacao_reviews_imbd.ipynb",
      "provenance": [],
      "collapsed_sections": []
    },
    "kernelspec": {
      "name": "python3",
      "display_name": "Python 3"
    }
  },
  "cells": [
    {
      "cell_type": "markdown",
      "metadata": {
        "id": "tHizFwdsaS7Q"
      },
      "source": [
        "Referência: https://github.com/fchollet/deep-learning-with-python-notebooks"
      ]
    },
    {
      "cell_type": "code",
      "metadata": {
        "id": "P2z1tVKqNCz2"
      },
      "source": [
        "import keras"
      ],
      "execution_count": null,
      "outputs": []
    },
    {
      "cell_type": "markdown",
      "metadata": {
        "id": "q64-54aENK2H"
      },
      "source": [
        "# **Classificando resenhas de filmes:** um exemplo de classificação binária\n",
        "\n",
        "Observação: Este bloco de notas contém os exemplos de código encontrados no Capítulo 3, Seção 5 do Deep Learning with Python. Observe que o texto original apresenta muito mais conteúdo, em particular mais explicações e figuras: neste bloco de notas, você encontrará apenas o código-fonte e comentários relacionados.\n",
        "\n",
        "Nesse exemplos aplicaremos a classificação do tipo binária, ou seja, a saída terá apenas duas possibilidade de classificação. Esse é um tipo muito comum de aplicação e utilização de modelos de Deep learning. \n",
        "\n",
        "O exemplo proposto avalia resenhas de filmes do IMDB como positivo e negativo, se baseando na palavras contidas nos textos. \n",
        "\n",
        "**O conjunto de dados IMDB **\n",
        "\n",
        "Resumidamente o conjunto de dados contém 50000 resenhas de filmes. Divididos em 25000 para treino e 25000 para teste. Sendo que teste e treino são divididos em 50% de resenhas positivas e 50% de resenhas negativas. \n",
        "Para mais informações sobre o conjunto de dados acessar: \n",
        "\n",
        "O conjunto de dados IMDB vem no pacote do Keras. \n",
        "Já foi pré-processado: as resenhas (sequências de palavras) foram transformadas em sequências de inteiros, onde cada inteiro representa uma palavra específica em um dicionário.\n",
        "\n",
        "O código a seguir carregará o conjunto de dados (quando você executá-lo pela primeira vez, cerca de 80 MB de dados serão baixados para sua máquina):"
      ]
    },
    {
      "cell_type": "code",
      "metadata": {
        "id": "2QrfxEN7NMSN",
        "outputId": "d9c086fa-96b6-41f6-cba6-43a2f950f071",
        "colab": {
          "base_uri": "https://localhost:8080/"
        }
      },
      "source": [
        "from keras.datasets import imdb\n",
        "\n",
        "(train_data, train_labels), (test_data, test_labels) = imdb.load_data(num_words=10000)\n",
        "#num_words é a quantidade de palavras mais frequentes que vamos manter. \n",
        "#As palavras raras serão descartas. \n",
        "#train_data e test_data são os dados das avaliações, enquanto que train_label e test_label são as etiquetas de 0 ou 1 associada a cada\n",
        "#avaliação. Sendo 0 para negativo e 1 para positivo. "
      ],
      "execution_count": 1,
      "outputs": [
        {
          "output_type": "stream",
          "text": [
            "Downloading data from https://storage.googleapis.com/tensorflow/tf-keras-datasets/imdb.npz\n",
            "17465344/17464789 [==============================] - 0s 0us/step\n"
          ],
          "name": "stdout"
        }
      ]
    },
    {
      "cell_type": "code",
      "metadata": {
        "id": "MABvHjlFPWZQ",
        "outputId": "4f2bcd01-6e21-4e2e-dfca-2e97c32b438e",
        "colab": {
          "base_uri": "https://localhost:8080/"
        }
      },
      "source": [
        "train_data[0]"
      ],
      "execution_count": 2,
      "outputs": [
        {
          "output_type": "execute_result",
          "data": {
            "text/plain": [
              "[1,\n",
              " 14,\n",
              " 22,\n",
              " 16,\n",
              " 43,\n",
              " 530,\n",
              " 973,\n",
              " 1622,\n",
              " 1385,\n",
              " 65,\n",
              " 458,\n",
              " 4468,\n",
              " 66,\n",
              " 3941,\n",
              " 4,\n",
              " 173,\n",
              " 36,\n",
              " 256,\n",
              " 5,\n",
              " 25,\n",
              " 100,\n",
              " 43,\n",
              " 838,\n",
              " 112,\n",
              " 50,\n",
              " 670,\n",
              " 2,\n",
              " 9,\n",
              " 35,\n",
              " 480,\n",
              " 284,\n",
              " 5,\n",
              " 150,\n",
              " 4,\n",
              " 172,\n",
              " 112,\n",
              " 167,\n",
              " 2,\n",
              " 336,\n",
              " 385,\n",
              " 39,\n",
              " 4,\n",
              " 172,\n",
              " 4536,\n",
              " 1111,\n",
              " 17,\n",
              " 546,\n",
              " 38,\n",
              " 13,\n",
              " 447,\n",
              " 4,\n",
              " 192,\n",
              " 50,\n",
              " 16,\n",
              " 6,\n",
              " 147,\n",
              " 2025,\n",
              " 19,\n",
              " 14,\n",
              " 22,\n",
              " 4,\n",
              " 1920,\n",
              " 4613,\n",
              " 469,\n",
              " 4,\n",
              " 22,\n",
              " 71,\n",
              " 87,\n",
              " 12,\n",
              " 16,\n",
              " 43,\n",
              " 530,\n",
              " 38,\n",
              " 76,\n",
              " 15,\n",
              " 13,\n",
              " 1247,\n",
              " 4,\n",
              " 22,\n",
              " 17,\n",
              " 515,\n",
              " 17,\n",
              " 12,\n",
              " 16,\n",
              " 626,\n",
              " 18,\n",
              " 2,\n",
              " 5,\n",
              " 62,\n",
              " 386,\n",
              " 12,\n",
              " 8,\n",
              " 316,\n",
              " 8,\n",
              " 106,\n",
              " 5,\n",
              " 4,\n",
              " 2223,\n",
              " 5244,\n",
              " 16,\n",
              " 480,\n",
              " 66,\n",
              " 3785,\n",
              " 33,\n",
              " 4,\n",
              " 130,\n",
              " 12,\n",
              " 16,\n",
              " 38,\n",
              " 619,\n",
              " 5,\n",
              " 25,\n",
              " 124,\n",
              " 51,\n",
              " 36,\n",
              " 135,\n",
              " 48,\n",
              " 25,\n",
              " 1415,\n",
              " 33,\n",
              " 6,\n",
              " 22,\n",
              " 12,\n",
              " 215,\n",
              " 28,\n",
              " 77,\n",
              " 52,\n",
              " 5,\n",
              " 14,\n",
              " 407,\n",
              " 16,\n",
              " 82,\n",
              " 2,\n",
              " 8,\n",
              " 4,\n",
              " 107,\n",
              " 117,\n",
              " 5952,\n",
              " 15,\n",
              " 256,\n",
              " 4,\n",
              " 2,\n",
              " 7,\n",
              " 3766,\n",
              " 5,\n",
              " 723,\n",
              " 36,\n",
              " 71,\n",
              " 43,\n",
              " 530,\n",
              " 476,\n",
              " 26,\n",
              " 400,\n",
              " 317,\n",
              " 46,\n",
              " 7,\n",
              " 4,\n",
              " 2,\n",
              " 1029,\n",
              " 13,\n",
              " 104,\n",
              " 88,\n",
              " 4,\n",
              " 381,\n",
              " 15,\n",
              " 297,\n",
              " 98,\n",
              " 32,\n",
              " 2071,\n",
              " 56,\n",
              " 26,\n",
              " 141,\n",
              " 6,\n",
              " 194,\n",
              " 7486,\n",
              " 18,\n",
              " 4,\n",
              " 226,\n",
              " 22,\n",
              " 21,\n",
              " 134,\n",
              " 476,\n",
              " 26,\n",
              " 480,\n",
              " 5,\n",
              " 144,\n",
              " 30,\n",
              " 5535,\n",
              " 18,\n",
              " 51,\n",
              " 36,\n",
              " 28,\n",
              " 224,\n",
              " 92,\n",
              " 25,\n",
              " 104,\n",
              " 4,\n",
              " 226,\n",
              " 65,\n",
              " 16,\n",
              " 38,\n",
              " 1334,\n",
              " 88,\n",
              " 12,\n",
              " 16,\n",
              " 283,\n",
              " 5,\n",
              " 16,\n",
              " 4472,\n",
              " 113,\n",
              " 103,\n",
              " 32,\n",
              " 15,\n",
              " 16,\n",
              " 5345,\n",
              " 19,\n",
              " 178,\n",
              " 32]"
            ]
          },
          "metadata": {
            "tags": []
          },
          "execution_count": 2
        }
      ]
    },
    {
      "cell_type": "code",
      "metadata": {
        "id": "O0jwsNUrPXCW",
        "outputId": "bf5eb4ef-910f-4455-859b-d696e6e16934",
        "colab": {
          "base_uri": "https://localhost:8080/"
        }
      },
      "source": [
        "train_labels[0]"
      ],
      "execution_count": 3,
      "outputs": [
        {
          "output_type": "execute_result",
          "data": {
            "text/plain": [
              "1"
            ]
          },
          "metadata": {
            "tags": []
          },
          "execution_count": 3
        }
      ]
    },
    {
      "cell_type": "code",
      "metadata": {
        "id": "3S75AOmrPY9S",
        "outputId": "a83d7942-a697-46c0-8f54-eabef7034efd",
        "colab": {
          "base_uri": "https://localhost:8080/"
        }
      },
      "source": [
        "max([max(sequence) for sequence in train_data])"
      ],
      "execution_count": 4,
      "outputs": [
        {
          "output_type": "execute_result",
          "data": {
            "text/plain": [
              "9999"
            ]
          },
          "metadata": {
            "tags": []
          },
          "execution_count": 4
        }
      ]
    },
    {
      "cell_type": "code",
      "metadata": {
        "id": "PiKdeh2KPaTu",
        "outputId": "2cdad984-15e5-48dc-df04-bd144b94b5c2",
        "colab": {
          "base_uri": "https://localhost:8080/"
        }
      },
      "source": [
        "# word_index é um dicionario que mapeia as palavras para um índice inteiro\n",
        "word_index = imdb.get_word_index()\n",
        "# Nós o invertemos, mapeando índices inteiros para palavras\n",
        "reverse_word_index = dict([(value, key) for (key, value) in word_index.items()])\n",
        "# Nós decodificamos a revisão; observe que nossos índices foram compensados ​​por 3\n",
        "# porque 0, 1 e 2 são índices reservados para \"preenchimento\", \"início da sequência\" e \"desconhecido\".\n",
        "decoded_review = ' '.join([reverse_word_index.get(i - 3, '?') for i in train_data[0]])"
      ],
      "execution_count": 5,
      "outputs": [
        {
          "output_type": "stream",
          "text": [
            "Downloading data from https://storage.googleapis.com/tensorflow/tf-keras-datasets/imdb_word_index.json\n",
            "1646592/1641221 [==============================] - 0s 0us/step\n"
          ],
          "name": "stdout"
        }
      ]
    },
    {
      "cell_type": "code",
      "metadata": {
        "id": "Ijydo9BdPeg-",
        "outputId": "dfebcf65-24c3-42dd-9fa8-2745293c8b5d",
        "colab": {
          "base_uri": "https://localhost:8080/",
          "height": 145
        }
      },
      "source": [
        "decoded_review"
      ],
      "execution_count": 6,
      "outputs": [
        {
          "output_type": "execute_result",
          "data": {
            "application/vnd.google.colaboratory.intrinsic+json": {
              "type": "string"
            },
            "text/plain": [
              "\"? this film was just brilliant casting location scenery story direction everyone's really suited the part they played and you could just imagine being there robert ? is an amazing actor and now the same being director ? father came from the same scottish island as myself so i loved the fact there was a real connection with this film the witty remarks throughout the film were great it was just brilliant so much that i bought the film as soon as it was released for ? and would recommend it to everyone to watch and the fly fishing was amazing really cried at the end it was so sad and you know what they say if you cry at a film it must have been good and this definitely was also ? to the two little boy's that played the ? of norman and paul they were just brilliant children are often left out of the ? list i think because the stars that play them all grown up are such a big profile for the whole film but these children are amazing and should be praised for what they have done don't you think the whole story was so lovely because it was true and was someone's life after all that was shared with us all\""
            ]
          },
          "metadata": {
            "tags": []
          },
          "execution_count": 6
        }
      ]
    },
    {
      "cell_type": "markdown",
      "metadata": {
        "id": "N-CkxLJhPi1t"
      },
      "source": [
        "# Pré-processamento\n",
        "\n",
        "Não podemos alimentar a rede neural com listas de inteiros. Então vamos transformar essas listas em tensores. \n",
        "\n",
        "Para isso vamos transformá-las em vetores variando de 0 e 1. \n",
        "\n",
        "Concretamente, isso significaria, por exemplo, transformar a sequência [3, 5] em um vetor de 10.000 dimensões que seriam todos zeros exceto para os índices 3 e 5, que seriam uns. Então poderíamos usar como primeira camada em nossa rede uma camada Densa, capaz de lidar com dados vetoriais de ponto flutuante."
      ]
    },
    {
      "cell_type": "code",
      "metadata": {
        "id": "FXs1ZzawPgUt"
      },
      "source": [
        "import numpy as np\n",
        "\n",
        "def vectorize_sequences(sequences, dimension=10000):\n",
        "    # Crie uma matriz totalmente zero de forma (len (sequências), dimensão)\n",
        "    results = np.zeros((len(sequences), dimension))\n",
        "    for i, sequence in enumerate(sequences):\n",
        "        results[i, sequence] = 1.  # definir índices específicos de resultados [i] para 1s\n",
        "    return results\n",
        "\n",
        "# Nossos dados de treinamento vetorizados\n",
        "x_train = vectorize_sequences(train_data)\n",
        "# Nossos dados de teste vetorizados\n",
        "x_test = vectorize_sequences(test_data)"
      ],
      "execution_count": 7,
      "outputs": []
    },
    {
      "cell_type": "code",
      "metadata": {
        "id": "qInus83TPmaP",
        "outputId": "2a03ab8c-1925-405f-82a4-2326a7a05d98",
        "colab": {
          "base_uri": "https://localhost:8080/"
        }
      },
      "source": [
        "x_train[0]"
      ],
      "execution_count": 8,
      "outputs": [
        {
          "output_type": "execute_result",
          "data": {
            "text/plain": [
              "array([0., 1., 1., ..., 0., 0., 0.])"
            ]
          },
          "metadata": {
            "tags": []
          },
          "execution_count": 8
        }
      ]
    },
    {
      "cell_type": "code",
      "metadata": {
        "id": "Q3VMb_8zPnut"
      },
      "source": [
        "# Nossos rótulos vetorizados\n",
        "y_train = np.asarray(train_labels).astype('float32')\n",
        "y_test = np.asarray(test_labels).astype('float32')"
      ],
      "execution_count": 9,
      "outputs": []
    },
    {
      "cell_type": "markdown",
      "metadata": {
        "id": "oxRyntkyPsEe"
      },
      "source": [
        "\n",
        "# Construindo a Rede\n",
        "Nossos dados de entrada são simplesmente vetores, e nossos rótulos são escalares (1s e 0s): esta é a configuração mais fácil que você encontrará. Um tipo de rede com bom desempenho em tal problema seria uma pilha simples de camadas totalmente conectadas (Densa) com ativações relu: Densa (16,ativação = 'relu')\n",
        "\n",
        "\n",
        "O argumento que está sendo passado para cada camada Densa (16) é o número de \"unidades ocultas\" da camada. O que é uma unidade oculta? É uma dimensão no espaço de representação da camada. Você deve se lembrar do capítulo anterior que cada camada Densa com uma ativação relu implementa a seguinte cadeia de operações de tensor:\n",
        "\n",
        "\n",
        "output = relu(dot(W, input) + b)\n",
        "\n",
        "Ter 16 unidades ocultas significa que a matriz de peso W terá forma (dimensão_entrada, 16), ou seja, o produto escalar com W projetará os dados de entrada em um espaço de representação de 16 dimensões (e então adicionaríamos o vetor de polarização b e aplicaríamos o operação relu). Você pode compreender intuitivamente a dimensionalidade do seu espaço de representação como \"quanta liberdade você está permitindo que a rede tenha ao aprender representações internas\". Ter mais unidades ocultas (um espaço de representação de dimensão superior) permite que sua rede aprenda representações mais complexas, mas torna sua rede mais cara computacionalmente e pode levar ao aprendizado de padrões indesejados (padrões que irão melhorar o desempenho nos dados de treinamento, mas não no dados de teste).\n",
        "\n",
        "Existem duas principais decisões de arquitetura a serem feitas sobre essa pilha de camadas densas:\n",
        "\n",
        " **Quantas camadas usar.**\n",
        "Quantas \"unidades ocultas\" escolher para cada camada.\n",
        "No próximo capítulo, você aprenderá os princípios formais para guiá-lo ao fazer essas escolhas. Por enquanto, você terá que confiar em nós a seguinte escolha de arquitetura: duas camadas intermediárias com 16 unidades ocultas cada, e uma terceira camada que produzirá a previsão escalar em relação ao sentimento da revisão atual. As camadas intermediárias usarão relu como sua \"função de ativação\", e a camada final usará uma ativação sigmóide para gerar uma probabilidade (uma pontuação entre 0 e 1, indicando a probabilidade de a amostra ter o alvo \"1\", ou seja, a probabilidade de a avaliação ser positiva). Um relu (unidade linear retificada) é uma função destinada a zerar valores negativos, enquanto um sigmóide \"esmaga\" valores arbitrários no intervalo [0, 1], gerando assim algo que pode ser interpretado como uma probabilidade.\n",
        "\n",
        "E aqui está a implementação do Keras, muito semelhante ao exemplo MNIST que você viu anteriormente:\n",
        "\n"
      ]
    },
    {
      "cell_type": "code",
      "metadata": {
        "id": "EgWi2dstPpdn"
      },
      "source": [
        "from keras import models\n",
        "from keras import layers\n",
        "\n",
        "model = models.Sequential()\n",
        "model.add(layers.Dense(16, activation='relu', input_shape=(10000,)))\n",
        "model.add(layers.Dense(16, activation='relu'))\n",
        "model.add(layers.Dense(1, activation='sigmoid'))"
      ],
      "execution_count": 10,
      "outputs": []
    },
    {
      "cell_type": "markdown",
      "metadata": {
        "id": "gVlMbau3PzXk"
      },
      "source": [
        "Por último, precisamos escolher uma função de perda e um otimizador. Visto que estamos enfrentando um problema de classificação binária e a saída de nossa rede é uma probabilidade (terminamos nossa rede com uma camada de unidade única com uma ativação sigmóide), é melhor usar a perda binária_crossentropia. Não é a única escolha viável: você pode usar, por exemplo, mean_squared_error. Mas crossentropy é geralmente a melhor escolha quando você está lidando com modelos que geram probabilidades. Crossentropy é uma grandeza do campo da Teoria da Informação, que mede a \"distância\" entre as distribuições de probabilidade, ou no nosso caso, entre a distribuição da verdade fundamental e nossas previsões.\n",
        "\n",
        "Aqui está a etapa em que configuramos nosso modelo com o otimizador rmsprop e a função de perda binary_crossentropy. Observe que também monitoraremos a precisão durante o treinamento.\n"
      ]
    },
    {
      "cell_type": "code",
      "metadata": {
        "id": "n_KUVpubPyDn"
      },
      "source": [
        "model.compile(optimizer='rmsprop',\n",
        "              loss='binary_crossentropy',\n",
        "              metrics=['accuracy'])"
      ],
      "execution_count": 11,
      "outputs": []
    },
    {
      "cell_type": "markdown",
      "metadata": {
        "id": "Q9Qzb6I9P7r8"
      },
      "source": [
        "Estamos passando nosso otimizador, função de perda e métricas como strings, o que é possível porque rmsprop, binary_crossentropy e precisão são empacotados como parte do Keras. Às vezes, você pode querer configurar os parâmetros de seu otimizador ou passar uma função de perda personalizada ou função métrica. Isso pode ser feito passando uma instância de classe do otimizador como o argumento do otimizador:\n"
      ]
    },
    {
      "cell_type": "code",
      "metadata": {
        "id": "Fzpi-XQqP1lc"
      },
      "source": [
        "from keras import optimizers\n",
        "\n",
        "model.compile(optimizer=optimizers.RMSprop(lr=0.001),\n",
        "              loss='binary_crossentropy',\n",
        "              metrics=['accuracy'])"
      ],
      "execution_count": 12,
      "outputs": []
    },
    {
      "cell_type": "markdown",
      "metadata": {
        "id": "vSyVojJJP_So"
      },
      "source": [
        "O último pode ser feito passando objetos de função como os argumentos de perda ou métrica:\n",
        "\n"
      ]
    },
    {
      "cell_type": "code",
      "metadata": {
        "id": "kzrZdS7gP91M"
      },
      "source": [
        "from keras import losses\n",
        "from keras import metrics\n",
        "\n",
        "model.compile(optimizer=optimizers.RMSprop(lr=0.001),\n",
        "              loss=losses.binary_crossentropy,\n",
        "              metrics=[metrics.binary_accuracy])"
      ],
      "execution_count": 13,
      "outputs": []
    },
    {
      "cell_type": "markdown",
      "metadata": {
        "id": "9aKuzyMEQDQl"
      },
      "source": [
        "# Validando a abordagem\n",
        "Para monitorar durante o treinamento a precisão do modelo nos dados que ele nunca viu antes, criaremos um \"conjunto de validação\" separando 10.000 amostras dos dados de treinamento originais:"
      ]
    },
    {
      "cell_type": "code",
      "metadata": {
        "id": "hAenjAf1QDzd"
      },
      "source": [
        "x_val = x_train[:10000]\n",
        "partial_x_train = x_train[10000:]\n",
        "\n",
        "y_val = y_train[:10000]\n",
        "partial_y_train = y_train[10000:]"
      ],
      "execution_count": 14,
      "outputs": []
    },
    {
      "cell_type": "markdown",
      "metadata": {
        "id": "2TKOx19EQHvE"
      },
      "source": [
        "Agora treinaremos nosso modelo por 20 épocas (20 iterações em todas as amostras nos tensores x_train e y_train), em minilotes de 512 amostras. Ao mesmo tempo, monitoraremos a perda e a precisão nas 10.000 amostras que separamos. Isso é feito passando os dados de validação como o argumento validation_data:\n",
        "\n"
      ]
    },
    {
      "cell_type": "code",
      "metadata": {
        "id": "Gf94zXWLQGP1",
        "outputId": "b49ee24e-c50c-4085-d82c-a0052370e9d5",
        "colab": {
          "base_uri": "https://localhost:8080/"
        }
      },
      "source": [
        "history = model.fit(partial_x_train,\n",
        "                    partial_y_train,\n",
        "                    epochs=20,\n",
        "                    batch_size=512,\n",
        "                    validation_data=(x_val, y_val))"
      ],
      "execution_count": 15,
      "outputs": [
        {
          "output_type": "stream",
          "text": [
            "Epoch 1/20\n",
            "30/30 [==============================] - 1s 45ms/step - loss: 0.5346 - binary_accuracy: 0.7661 - val_loss: 0.4164 - val_binary_accuracy: 0.8638\n",
            "Epoch 2/20\n",
            "30/30 [==============================] - 1s 32ms/step - loss: 0.3345 - binary_accuracy: 0.8985 - val_loss: 0.3312 - val_binary_accuracy: 0.8792\n",
            "Epoch 3/20\n",
            "30/30 [==============================] - 1s 32ms/step - loss: 0.2433 - binary_accuracy: 0.9263 - val_loss: 0.3281 - val_binary_accuracy: 0.8669\n",
            "Epoch 4/20\n",
            "30/30 [==============================] - 1s 32ms/step - loss: 0.1895 - binary_accuracy: 0.9427 - val_loss: 0.2765 - val_binary_accuracy: 0.8901\n",
            "Epoch 5/20\n",
            "30/30 [==============================] - 1s 32ms/step - loss: 0.1524 - binary_accuracy: 0.9547 - val_loss: 0.2801 - val_binary_accuracy: 0.8882\n",
            "Epoch 6/20\n",
            "30/30 [==============================] - 1s 32ms/step - loss: 0.1229 - binary_accuracy: 0.9656 - val_loss: 0.3133 - val_binary_accuracy: 0.8759\n",
            "Epoch 7/20\n",
            "30/30 [==============================] - 1s 33ms/step - loss: 0.1026 - binary_accuracy: 0.9713 - val_loss: 0.3064 - val_binary_accuracy: 0.8808\n",
            "Epoch 8/20\n",
            "30/30 [==============================] - 1s 32ms/step - loss: 0.0826 - binary_accuracy: 0.9788 - val_loss: 0.3276 - val_binary_accuracy: 0.8773\n",
            "Epoch 9/20\n",
            "30/30 [==============================] - 1s 33ms/step - loss: 0.0671 - binary_accuracy: 0.9839 - val_loss: 0.3437 - val_binary_accuracy: 0.8775\n",
            "Epoch 10/20\n",
            "30/30 [==============================] - 1s 32ms/step - loss: 0.0569 - binary_accuracy: 0.9860 - val_loss: 0.3632 - val_binary_accuracy: 0.8772\n",
            "Epoch 11/20\n",
            "30/30 [==============================] - 1s 32ms/step - loss: 0.0450 - binary_accuracy: 0.9902 - val_loss: 0.3959 - val_binary_accuracy: 0.8735\n",
            "Epoch 12/20\n",
            "30/30 [==============================] - 1s 33ms/step - loss: 0.0348 - binary_accuracy: 0.9935 - val_loss: 0.4224 - val_binary_accuracy: 0.8728\n",
            "Epoch 13/20\n",
            "30/30 [==============================] - 1s 32ms/step - loss: 0.0285 - binary_accuracy: 0.9957 - val_loss: 0.4479 - val_binary_accuracy: 0.8740\n",
            "Epoch 14/20\n",
            "30/30 [==============================] - 1s 32ms/step - loss: 0.0216 - binary_accuracy: 0.9967 - val_loss: 0.4825 - val_binary_accuracy: 0.8723\n",
            "Epoch 15/20\n",
            "30/30 [==============================] - 1s 32ms/step - loss: 0.0182 - binary_accuracy: 0.9971 - val_loss: 0.5038 - val_binary_accuracy: 0.8742\n",
            "Epoch 16/20\n",
            "30/30 [==============================] - 1s 32ms/step - loss: 0.0124 - binary_accuracy: 0.9989 - val_loss: 0.5834 - val_binary_accuracy: 0.8641\n",
            "Epoch 17/20\n",
            "30/30 [==============================] - 1s 33ms/step - loss: 0.0086 - binary_accuracy: 0.9995 - val_loss: 0.5877 - val_binary_accuracy: 0.8662\n",
            "Epoch 18/20\n",
            "30/30 [==============================] - 1s 32ms/step - loss: 0.0101 - binary_accuracy: 0.9986 - val_loss: 0.6033 - val_binary_accuracy: 0.8703\n",
            "Epoch 19/20\n",
            "30/30 [==============================] - 1s 32ms/step - loss: 0.0043 - binary_accuracy: 0.9998 - val_loss: 0.6378 - val_binary_accuracy: 0.8684\n",
            "Epoch 20/20\n",
            "30/30 [==============================] - 1s 32ms/step - loss: 0.0065 - binary_accuracy: 0.9987 - val_loss: 0.6705 - val_binary_accuracy: 0.8669\n"
          ],
          "name": "stdout"
        }
      ]
    },
    {
      "cell_type": "markdown",
      "metadata": {
        "id": "-S2AgXCrQKmm"
      },
      "source": [
        "\n",
        "Na CPU, isso levará menos de dois segundos por época - o treinamento termina em 20 segundos. No final de cada época, há uma pequena pausa enquanto o modelo calcula sua perda e precisão nas 10.000 amostras dos dados de validação.\n",
        "\n",
        "Observe que a chamada para model.fit () retorna um objeto History. Este objeto possui um histórico de membros, que é um dicionário contendo dados sobre tudo o que aconteceu durante o treinamento. Vamos dar uma olhada nisso:\n"
      ]
    },
    {
      "cell_type": "code",
      "metadata": {
        "id": "H0BRh6e7QKHk",
        "outputId": "baf10bbd-659d-48d2-feb1-7d8eb0b5f5b5",
        "colab": {
          "base_uri": "https://localhost:8080/"
        }
      },
      "source": [
        "history_dict = history.history\n",
        "history_dict.keys()"
      ],
      "execution_count": 16,
      "outputs": [
        {
          "output_type": "execute_result",
          "data": {
            "text/plain": [
              "dict_keys(['loss', 'binary_accuracy', 'val_loss', 'val_binary_accuracy'])"
            ]
          },
          "metadata": {
            "tags": []
          },
          "execution_count": 16
        }
      ]
    },
    {
      "cell_type": "markdown",
      "metadata": {
        "id": "W2l0Q5hrQOT0"
      },
      "source": [
        "\n",
        "Ele contém 4 entradas: uma por métrica que estava sendo monitorada, durante o treinamento e durante a validação. Vamos usar Matplotlib para traçar a perda de treinamento e validação lado a lado, bem como a precisão de treinamento e validação:\n"
      ]
    },
    {
      "cell_type": "code",
      "metadata": {
        "id": "LgvtEEIQQQL8",
        "outputId": "37f1afe0-607b-4263-a681-bc727fb8b74b",
        "colab": {
          "base_uri": "https://localhost:8080/",
          "height": 295
        }
      },
      "source": [
        "import matplotlib.pyplot as plt\n",
        "\n",
        "acc = history.history['binary_accuracy']\n",
        "val_acc = history.history['val_binary_accuracy']\n",
        "loss = history.history['loss']\n",
        "val_loss = history.history['val_loss']\n",
        "\n",
        "epochs = range(1, len(acc) + 1)\n",
        "\n",
        "# \"bo\" is for \"blue dot\"\n",
        "plt.plot(epochs, loss, 'bo', label='Training loss')\n",
        "# b is for \"solid blue line\"\n",
        "plt.plot(epochs, val_loss, 'b', label='Validation loss')\n",
        "plt.title('Training and validation loss')\n",
        "plt.xlabel('Epochs')\n",
        "plt.ylabel('Loss')\n",
        "plt.legend()\n",
        "\n",
        "plt.show()"
      ],
      "execution_count": 18,
      "outputs": [
        {
          "output_type": "display_data",
          "data": {
            "image/png": "[encoded data removed]",
            "text/plain": [
              "<Figure size 432x288 with 1 Axes>"
            ]
          },
          "metadata": {
            "tags": [],
            "needs_background": "light"
          }
        }
      ]
    },
    {
      "cell_type": "code",
      "metadata": {
        "id": "aAnhiZArQTJc",
        "outputId": "00524051-e51a-4755-965e-1cafdb59c453",
        "colab": {
          "base_uri": "https://localhost:8080/",
          "height": 295
        }
      },
      "source": [
        "plt.clf()   # clear figure\n",
        "acc_values = history_dict['binary_accuracy']\n",
        "val_acc_values = history_dict['val_binary_accuracy']\n",
        "\n",
        "plt.plot(epochs, acc, 'bo', label='Training acc')\n",
        "plt.plot(epochs, val_acc, 'b', label='Validation acc')\n",
        "plt.title('Training and validation accuracy')\n",
        "plt.xlabel('Epochs')\n",
        "plt.ylabel('Loss')\n",
        "plt.legend()\n",
        "\n",
        "plt.show()"
      ],
      "execution_count": 20,
      "outputs": [
        {
          "output_type": "display_data",
          "data": {
            "image/png": "[encoded data removed]",
            "text/plain": [
              "<Figure size 432x288 with 1 Axes>"
            ]
          },
          "metadata": {
            "tags": [],
            "needs_background": "light"
          }
        }
      ]
    },
    {
      "cell_type": "markdown",
      "metadata": {
        "id": "0QZult5AQkco"
      },
      "source": [
        "\n",
        "Os pontos são a perda e a precisão do treinamento, enquanto as linhas sólidas são a perda e a precisão da validação. Observe que seus próprios resultados podem variar ligeiramente devido a uma inicialização aleatória diferente de sua rede.\n",
        "\n",
        "Como você pode ver, a perda de treinamento diminui a cada época e a precisão do treinamento aumenta a cada época. Isso é o que você esperaria ao executar a otimização de gradiente descendente - a quantidade que você está tentando minimizar deve diminuir a cada iteração. Mas esse não é o caso da perda de validação e precisão: eles parecem atingir o pico na quarta época. Este é um exemplo do que alertamos anteriormente: um modelo com melhor desempenho nos dados de treinamento não é necessariamente um modelo que terá um desempenho melhor nos dados que nunca viu antes. Em termos precisos, o que você está vendo é \"overfitting\": após a segunda época, estamos superotimizando os dados de treinamento e acabamos aprendendo representações que são específicas para os dados de treinamento e não generalizam para dados fora do conjunto de treinamento.\n",
        "\n",
        "Nesse caso, para evitar overfitting, poderíamos simplesmente interromper o treinamento após três épocas. Em geral, há uma variedade de técnicas que você pode utilizar para mitigar o sobreajuste, que abordaremos no próximo capítulo.\n",
        "\n",
        "Vamos treinar uma nova rede do zero por quatro épocas e, em seguida, avaliá-la em nossos dados de teste:"
      ]
    },
    {
      "cell_type": "code",
      "metadata": {
        "id": "gkmQVkb-QU5N",
        "outputId": "3e04ce7e-b9c9-4722-e1a5-e04a81fb9c51",
        "colab": {
          "base_uri": "https://localhost:8080/"
        }
      },
      "source": [
        "model = models.Sequential()\n",
        "model.add(layers.Dense(16, activation='relu', input_shape=(10000,)))\n",
        "model.add(layers.Dense(16, activation='relu'))\n",
        "model.add(layers.Dense(1, activation='sigmoid'))\n",
        "\n",
        "model.compile(optimizer='rmsprop',\n",
        "              loss='binary_crossentropy',\n",
        "              metrics=['accuracy'])\n",
        "\n",
        "model.fit(x_train, y_train, epochs=4, batch_size=512)\n",
        "results = model.evaluate(x_test, y_test)"
      ],
      "execution_count": 21,
      "outputs": [
        {
          "output_type": "stream",
          "text": [
            "Epoch 1/4\n",
            "49/49 [==============================] - 1s 26ms/step - loss: 0.4854 - accuracy: 0.8013\n",
            "Epoch 2/4\n",
            "49/49 [==============================] - 1s 25ms/step - loss: 0.2760 - accuracy: 0.9075\n",
            "Epoch 3/4\n",
            "49/49 [==============================] - 1s 26ms/step - loss: 0.2062 - accuracy: 0.9272\n",
            "Epoch 4/4\n",
            "49/49 [==============================] - 1s 26ms/step - loss: 0.1707 - accuracy: 0.9402\n",
            "782/782 [==============================] - 1s 2ms/step - loss: 0.2930 - accuracy: 0.8839\n"
          ],
          "name": "stdout"
        }
      ]
    },
    {
      "cell_type": "code",
      "metadata": {
        "id": "DOq5Qw9EQmh7",
        "outputId": "aa6579cd-8826-4cb5-e47e-86a38f1cf161",
        "colab": {
          "base_uri": "https://localhost:8080/"
        }
      },
      "source": [
        "results"
      ],
      "execution_count": 22,
      "outputs": [
        {
          "output_type": "execute_result",
          "data": {
            "text/plain": [
              "[0.29304638504981995, 0.8839200139045715]"
            ]
          },
          "metadata": {
            "tags": []
          },
          "execution_count": 22
        }
      ]
    },
    {
      "cell_type": "code",
      "metadata": {
        "id": "M-vXCqLqQoDD",
        "outputId": "73f505b8-a073-4412-f9bd-1d794115d0f2",
        "colab": {
          "base_uri": "https://localhost:8080/"
        }
      },
      "source": [
        "model.predict(x_test)"
      ],
      "execution_count": 23,
      "outputs": [
        {
          "output_type": "execute_result",
          "data": {
            "text/plain": [
              "array([[0.22039926],\n",
              "       [0.99998194],\n",
              "       [0.92617404],\n",
              "       ...,\n",
              "       [0.12413818],\n",
              "       [0.0925833 ],\n",
              "       [0.6918749 ]], dtype=float32)"
            ]
          },
          "metadata": {
            "tags": []
          },
          "execution_count": 23
        }
      ]
    },
    {
      "cell_type": "markdown",
      "metadata": {
        "id": "aiSjYjRuQrPT"
      },
      "source": [
        "# Outras experiências\n",
        "Estávamos usando 2 camadas ocultas. Tente usar 1 ou 3 camadas ocultas e veja como isso afeta a validação e a precisão do teste.\n",
        "Tente usar camadas com mais unidades ocultas ou menos unidades ocultas: 32 unidades, 64 unidades ...\n",
        "Tente usar a função de perda mse em vez de binary_crossentropy.\n",
        "Tente usar a ativação tanh (uma ativação que era popular nos primeiros dias das redes neurais) em vez de relu.\n",
        "Esses experimentos ajudarão a convencê-lo de que as escolhas de arquitetura que fizemos são bastante razoáveis, embora ainda possam ser melhoradas!\n",
        "\n",
        "Conclusões\n",
        "Aqui está o que você deve aprender com este exemplo:\n",
        "\n",
        "Geralmente, há um pouco de pré-processamento que você precisa fazer em seus dados brutos para poder alimentá-los - como tensores - em uma rede neural. No caso de sequências de palavras, elas podem ser codificadas como vetores binários - mas também existem outras opções de codificação.\n",
        "Pilhas de camadas densas com ativações relu podem resolver uma ampla gama de problemas (incluindo classificação de sentimento) e provavelmente você as usará com frequência.\n",
        "Em um problema de classificação binária (duas classes de saída), sua rede deve terminar com uma camada Densa com 1 unidade e uma ativação sigmóide, ou seja, a saída de sua rede deve ser um escalar entre 0 e 1, codificando uma probabilidade.\n",
        "Com essa saída sigmóide escalar, em um problema de classificação binária, a função de perda que você deve usar é binary_crossentropy.\n",
        "O otimizador rmsprop é geralmente uma boa escolha de otimizador, seja qual for o seu problema. Isso é uma coisa a menos para você se preocupar.\n",
        "À medida que melhoram seus dados de treinamento, as redes neurais eventualmente começam a se ajustar excessivamente e acabam obtendo resultados cada vez piores em dados nunca vistos antes. Certifique-se de sempre monitorar o desempenho nos dados que estão fora do conjunto de treinamento."
      ]
    }
  ]
}